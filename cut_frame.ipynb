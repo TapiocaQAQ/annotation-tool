{
 "cells": [
  {
   "cell_type": "code",
   "execution_count": 1,
   "metadata": {
    "tags": []
   },
   "outputs": [],
   "source": [
    "import os\n",
    "import cv2\n",
    "from pathlib import Path\n",
    "from tqdm import tqdm\n",
    "from optparse import OptionParser\n",
    "#MIC-770W-20A1U.mp4"
   ]
  },
  {
   "cell_type": "code",
   "execution_count": 2,
   "metadata": {},
   "outputs": [
    {
     "name": "stdout",
     "output_type": "stream",
     "text": [
      " Volume in drive C is Windows\n",
      " Volume Serial Number is BA07-BE43\n",
      "\n",
      " Directory of C:\\Users\\john\\Desktop\\new_temp\\annotation-tool\n",
      "\n",
      "2023/02/01  16:48    <DIR>          .\n",
      "2023/02/01  16:48    <DIR>          ..\n",
      "2023/02/01  16:47    <DIR>          .idea\n",
      "2023/02/01  16:48    <DIR>          .ipynb_checkpoints\n",
      "2023/02/01  16:47             4,024 coin_annotation_tool.html\n",
      "2023/02/01  16:47             8,320 cut_frame.ipynb\n",
      "2023/02/01  16:47               411 generate_frame.py\n",
      "2023/02/01  16:47    <DIR>          images\n",
      "2023/02/01  16:47    <DIR>          input\n",
      "2023/02/01  16:47    <DIR>          lib\n",
      "2023/02/01  16:47             1,318 README.md\n",
      "               4 File(s)         14,073 bytes\n",
      "               7 Dir(s)  294,943,444,992 bytes free\n"
     ]
    }
   ],
   "source": [
    "!dir"
   ]
  },
  {
   "cell_type": "code",
   "execution_count": 3,
   "metadata": {
    "collapsed": false,
    "jupyter": {
     "outputs_hidden": false
    }
   },
   "outputs": [],
   "source": [
    "#os.chdir('./WorkSpace/Anaconda/TAD')\n"
   ]
  },
  {
   "cell_type": "code",
   "execution_count": 4,
   "metadata": {
    "collapsed": false,
    "jupyter": {
     "outputs_hidden": false
    }
   },
   "outputs": [
    {
     "name": "stdout",
     "output_type": "stream",
     "text": [
      " Volume in drive C is Windows\n",
      " Volume Serial Number is BA07-BE43\n",
      "\n",
      " Directory of C:\\Users\\john\\Desktop\\new_temp\\annotation-tool\n",
      "\n",
      "2023/02/01  16:48    <DIR>          .\n",
      "2023/02/01  16:48    <DIR>          ..\n",
      "2023/02/01  16:47    <DIR>          .idea\n",
      "2023/02/01  16:48    <DIR>          .ipynb_checkpoints\n",
      "2023/02/01  16:47             4,024 coin_annotation_tool.html\n",
      "2023/02/01  16:47             8,320 cut_frame.ipynb\n",
      "2023/02/01  16:47               411 generate_frame.py\n",
      "2023/02/01  16:47    <DIR>          images\n",
      "2023/02/01  16:47    <DIR>          input\n",
      "2023/02/01  16:47    <DIR>          lib\n",
      "2023/02/01  16:47             1,318 README.md\n",
      "               4 File(s)         14,073 bytes\n",
      "               7 Dir(s)  294,943,440,896 bytes free\n"
     ]
    }
   ],
   "source": [
    "!dir"
   ]
  },
  {
   "cell_type": "code",
   "execution_count": 5,
   "metadata": {
    "collapsed": false,
    "jupyter": {
     "outputs_hidden": false
    }
   },
   "outputs": [],
   "source": [
    "video_list = os.listdir(path='./input/source')\n",
    "# init video.txt\n",
    "f = open('./input/video.txt','w')\n",
    "f.write(\"URLID,URL\\n\")\n",
    "for ele in video_list:\n",
    "    f.write(f\"{ele.split('.')[0]},{ele}\\n\")\n",
    "f.close()\n",
    "\n",
    "# init frame.txt\n",
    "f = open('./input/frame.txt','w')\n",
    "f.write(\"URLID,Frame,Time\\n\")\n",
    "f.close()\n"
   ]
  },
  {
   "cell_type": "code",
   "execution_count": 6,
   "metadata": {
    "collapsed": false,
    "jupyter": {
     "outputs_hidden": false
    }
   },
   "outputs": [
    {
     "name": "stdout",
     "output_type": "stream",
     "text": [
      "25.0\n",
      "input\\video\\test_video\n"
     ]
    },
    {
     "name": "stderr",
     "output_type": "stream",
     "text": [
      "201it [00:01, 126.51it/s]                                                                                              "
     ]
    },
    {
     "name": "stdout",
     "output_type": "stream",
     "text": [
      "finish test_video.mp4\n",
      "---------------------------------------------------------\n"
     ]
    },
    {
     "name": "stderr",
     "output_type": "stream",
     "text": [
      "\n"
     ]
    }
   ],
   "source": [
    "for video_name in video_list:\n",
    "\n",
    "    frame_index = 0  # original video frame\n",
    "    frame_count = 0  # save frame count\n",
    "    interval = 5  #\n",
    "    frame_list = []\n",
    "\n",
    "    video = cv2.VideoCapture(f'./input/source/{video_name}')\n",
    "    fps = video.get(cv2.CAP_PROP_FPS)\n",
    "    print(fps)\n",
    "    \n",
    "    video_root = Path(f\"./input/video/\")\n",
    "    video_root.mkdir(exist_ok=True)\n",
    "\n",
    "    frame_root = Path(f\"./input/video/{video_name.split('.')[0]}\")\n",
    "    print(frame_root)\n",
    "    frame_root.mkdir(exist_ok=True)\n",
    "\n",
    "    success = True if video.isOpened() else  False\n",
    "    if not success:\n",
    "        print(\"Read Video Fail\")\n",
    "    with tqdm(total=frame_index+1) as pbar:\n",
    "        while(success):\n",
    "            success, frame = video.read()\n",
    "            if not success:\n",
    "                print(f\"finish {video_name}\\n---------------------------------------------------------\")\n",
    "                break\n",
    "            #print(f'read {frame_index} frames')\n",
    "            if frame_index % interval == 0:\n",
    "                img_name = f'{str(frame_count).zfill(5)}.jpg'\n",
    "                cv2.imwrite(f\"{frame_root}/{img_name}\", frame)\n",
    "                frame_list.append(f\"{video_name.split('.')[0]},{img_name},{(frame_index/fps):.2f}\")\n",
    "                frame_count += 1\n",
    "            frame_index += 1\n",
    "            pbar.update(1)\n",
    "    f = open('./input/frame.txt','a')\n",
    "    for ele in frame_list:\n",
    "        f.write(ele+'\\n')\n",
    "    f.close()"
   ]
  },
  {
   "cell_type": "code",
   "execution_count": 10,
   "metadata": {
    "collapsed": false,
    "jupyter": {
     "outputs_hidden": false
    }
   },
   "outputs": [
    {
     "data": {
      "text/plain": [
       "list"
      ]
     },
     "execution_count": 10,
     "metadata": {},
     "output_type": "execute_result"
    }
   ],
   "source": [
    "type(os.listdir(path='./input/source'))"
   ]
  },
  {
   "cell_type": "code",
   "execution_count": 7,
   "metadata": {
    "collapsed": false,
    "jupyter": {
     "outputs_hidden": false
    }
   },
   "outputs": [
    {
     "data": {
      "text/plain": [
       "<function VideoCapture.release>"
      ]
     },
     "execution_count": 7,
     "metadata": {},
     "output_type": "execute_result"
    }
   ],
   "source": [
    "video.release"
   ]
  },
  {
   "cell_type": "code",
   "execution_count": 12,
   "metadata": {
    "collapsed": false,
    "jupyter": {
     "outputs_hidden": false
    }
   },
   "outputs": [],
   "source": [
    "fo = open('test.txt', 'w')\n",
    "fo.write(\"hello world\")\n",
    "fo.write(\"hello world\")\n",
    "fo.close()"
   ]
  },
  {
   "cell_type": "code",
   "execution_count": null,
   "metadata": {
    "collapsed": false,
    "jupyter": {
     "outputs_hidden": false
    }
   },
   "outputs": [],
   "source": []
  }
 ],
 "metadata": {
  "kernelspec": {
   "display_name": "tad",
   "language": "python",
   "name": "tad"
  },
  "language_info": {
   "codemirror_mode": {
    "name": "ipython",
    "version": 3
   },
   "file_extension": ".py",
   "mimetype": "text/x-python",
   "name": "python",
   "nbconvert_exporter": "python",
   "pygments_lexer": "ipython3",
   "version": "3.7.16"
  }
 },
 "nbformat": 4,
 "nbformat_minor": 4
}
