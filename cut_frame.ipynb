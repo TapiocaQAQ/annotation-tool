{
 "cells": [
  {
   "cell_type": "code",
   "execution_count": 8,
   "metadata": {
    "collapsed": true
   },
   "outputs": [],
   "source": [
    "import os\n",
    "import cv2\n",
    "from pathlib import Path\n",
    "from tqdm import tqdm\n",
    "#MIC-770W-20A1U.mp4"
   ]
  },
  {
   "cell_type": "code",
   "execution_count": 2,
   "outputs": [],
   "source": [
    "os.chdir('./WorkSpace/Anaconda/TAD')"
   ],
   "metadata": {
    "collapsed": false
   }
  },
  {
   "cell_type": "code",
   "execution_count": 3,
   "outputs": [
    {
     "name": "stdout",
     "output_type": "stream",
     "text": [
      " 磁碟區 C 中的磁碟是 Windows\n",
      " 磁碟區序號:  EA49-1687\n",
      "\n",
      " C:\\Users\\john\\WorkSpace\\Anaconda\\TAD 的目錄\n",
      "\n",
      "2023/01/23  下午 04:27    <DIR>          .\n",
      "2023/01/20  下午 11:16    <DIR>          ..\n",
      "2023/01/23  下午 04:25    <DIR>          .idea\n",
      "2022/09/02  下午 04:26             4,024 coin_annotation_tool.html\n",
      "2023/01/23  下午 04:27            11,237 cut_frame.ipynb\n",
      "2023/01/23  下午 04:00    <DIR>          input\n",
      "2023/01/22  下午 03:04    <DIR>          lib\n",
      "               2 個檔案          15,261 位元組\n",
      "               5 個目錄  1,183,829,544,960 位元組可用\n"
     ]
    }
   ],
   "source": [
    "!dir"
   ],
   "metadata": {
    "collapsed": false
   }
  },
  {
   "cell_type": "code",
   "execution_count": 9,
   "outputs": [
    {
     "name": "stdout",
     "output_type": "stream",
     "text": [
      "25.0\n"
     ]
    }
   ],
   "source": [
    "# video_name = 'test_video'\n",
    "# video = cv2.VideoCapture(f'./input/source/{video_name}.mp4')\n",
    "# fps = video.get(cv2.CAP_PROP_FPS)\n",
    "# print(fps)"
   ],
   "metadata": {
    "collapsed": false
   }
  },
  {
   "cell_type": "code",
   "execution_count": 10,
   "outputs": [
    {
     "name": "stdout",
     "output_type": "stream",
     "text": [
      "input\\video\\test_video\n"
     ]
    }
   ],
   "source": [
    "video_list = os.listdir(path='./input/source')\n",
    "# init video.txt\n",
    "f = open('./input/video.txt','w')\n",
    "f.write(\"URLID,URL\\n\")\n",
    "for ele in video_list:\n",
    "    f.write(f\"{ele.split('.')[0]},{ele}\\n\")\n",
    "f.close()\n",
    "\n",
    "# init frame.txt\n",
    "f = open('./input/frame.txt','w')\n",
    "f.write(\"URLID,Frame,Time\\n\")\n",
    "f.close()\n"
   ],
   "metadata": {
    "collapsed": false
   }
  },
  {
   "cell_type": "code",
   "execution_count": 13,
   "outputs": [
    {
     "name": "stderr",
     "output_type": "stream",
     "text": [
      "100%|██████████████████████████████████████████████████████████████████████████████████████| 1000/1000 [00:00<?, ?it/s]\n"
     ]
    }
   ],
   "source": [
    "for i in tqdm(range(1000)):\n",
    "    a =1"
   ],
   "metadata": {
    "collapsed": false
   }
  },
  {
   "cell_type": "code",
   "execution_count": 17,
   "outputs": [
    {
     "name": "stdout",
     "output_type": "stream",
     "text": [
      "15.511254591803834\n",
      "input\\video\\MIC-770W-20A1U\n"
     ]
    },
    {
     "name": "stderr",
     "output_type": "stream",
     "text": [
      "7386it [02:21, 52.03it/s]                                                                                              \n"
     ]
    },
    {
     "name": "stdout",
     "output_type": "stream",
     "text": [
      "Read Frame Fail\n",
      "25.0\n",
      "input\\video\\test_video\n"
     ]
    },
    {
     "name": "stderr",
     "output_type": "stream",
     "text": [
      "201it [00:01, 105.42it/s]                                                                                              "
     ]
    },
    {
     "name": "stdout",
     "output_type": "stream",
     "text": [
      "Read Frame Fail\n"
     ]
    },
    {
     "name": "stderr",
     "output_type": "stream",
     "text": [
      "\n"
     ]
    }
   ],
   "source": [
    "for video_name in video_list:\n",
    "\n",
    "    frame_index = 0  # original video frame\n",
    "    frame_count = 0  # save frame count\n",
    "    interval = 5  #\n",
    "    frame_list = []\n",
    "\n",
    "    video = cv2.VideoCapture(f'./input/source/{video_name}')\n",
    "    fps = video.get(cv2.CAP_PROP_FPS)\n",
    "    print(fps)\n",
    "\n",
    "    frame_root = Path(f\"./input/video/{video_name.split('.')[0]}\")\n",
    "    print(frame_root)\n",
    "    frame_root.mkdir(exist_ok=True)\n",
    "\n",
    "    success = True if video.isOpened() else  False\n",
    "    if not success:\n",
    "        print(\"Read Video Fail\")\n",
    "    with tqdm(total=frame_index+1) as pbar:\n",
    "        while(success):\n",
    "            success, frame = video.read()\n",
    "            if not success:\n",
    "                print(\"Read Frame Fail\")\n",
    "                break\n",
    "            #print(f'read {frame_index} frames')\n",
    "            if frame_index % interval == 0:\n",
    "                img_name = f'{str(frame_count).zfill(5)}.jpg'\n",
    "                cv2.imwrite(f\"{frame_root}/{img_name}\", frame)\n",
    "                frame_list.append(f'{video_name},{img_name},{(frame_index/fps):.2f}')\n",
    "                frame_count += 1\n",
    "            frame_index += 1\n",
    "            pbar.update(1)\n",
    "    f = open('./input/frame.txt','a')\n",
    "    for ele in frame_list:\n",
    "        f.write(ele+'\\n')\n",
    "    f.close()"
   ],
   "metadata": {
    "collapsed": false
   }
  },
  {
   "cell_type": "code",
   "execution_count": 10,
   "outputs": [
    {
     "data": {
      "text/plain": "list"
     },
     "execution_count": 10,
     "metadata": {},
     "output_type": "execute_result"
    }
   ],
   "source": [
    "type(os.listdir(path='./input/source'))"
   ],
   "metadata": {
    "collapsed": false
   }
  },
  {
   "cell_type": "code",
   "execution_count": 7,
   "outputs": [
    {
     "data": {
      "text/plain": "<function VideoCapture.release>"
     },
     "execution_count": 7,
     "metadata": {},
     "output_type": "execute_result"
    }
   ],
   "source": [
    "video.release"
   ],
   "metadata": {
    "collapsed": false
   }
  },
  {
   "cell_type": "code",
   "execution_count": 12,
   "outputs": [],
   "source": [
    "fo = open('test.txt', 'w')\n",
    "fo.write(\"hello world\")\n",
    "fo.write(\"hello world\")\n",
    "fo.close()"
   ],
   "metadata": {
    "collapsed": false
   }
  },
  {
   "cell_type": "code",
   "execution_count": null,
   "outputs": [],
   "source": [],
   "metadata": {
    "collapsed": false
   }
  }
 ],
 "metadata": {
  "kernelspec": {
   "name": "hw",
   "language": "python",
   "display_name": "HW"
  },
  "language_info": {
   "codemirror_mode": {
    "name": "ipython",
    "version": 2
   },
   "file_extension": ".py",
   "mimetype": "text/x-python",
   "name": "python",
   "nbconvert_exporter": "python",
   "pygments_lexer": "ipython2",
   "version": "2.7.6"
  }
 },
 "nbformat": 4,
 "nbformat_minor": 0
}
