{
 "cells": [
  {
   "cell_type": "code",
   "execution_count": 24,
   "metadata": {
    "tags": []
   },
   "outputs": [],
   "source": [
    "import os\n",
    "import cv2\n",
    "from pathlib import Path\n",
    "from tqdm import tqdm\n",
    "from optparse import OptionParser\n",
    "#MIC-770W-20A1U.mp4"
   ]
  },
  {
   "cell_type": "code",
   "execution_count": 3,
   "metadata": {},
   "outputs": [
    {
     "name": "stdout",
     "output_type": "stream",
     "text": [
      " Volume in drive C is Windows\n",
      " Volume Serial Number is BA07-BE43\n",
      "\n",
      " Directory of C:\\Users\\john\\Desktop\\new_temp\\annotation-tool\n",
      "\n",
      "2023/01/24  20:38    <DIR>          .\n",
      "2023/01/24  20:38    <DIR>          ..\n",
      "2023/01/24  19:22    <DIR>          .idea\n",
      "2023/01/24  19:22    <DIR>          .ipynb_checkpoints\n",
      "2023/01/24  18:09             4,024 coin_annotation_tool.html\n",
      "2023/01/24  20:38             9,237 cut_frame.ipynb\n",
      "2023/01/24  18:09    <DIR>          input\n",
      "2023/01/24  18:09    <DIR>          lib\n",
      "               2 File(s)         13,261 bytes\n",
      "               6 Dir(s)  299,502,800,896 bytes free\n"
     ]
    }
   ],
   "source": [
    "!dir"
   ]
  },
  {
   "cell_type": "code",
   "execution_count": 2,
   "metadata": {
    "collapsed": false,
    "jupyter": {
     "outputs_hidden": false
    }
   },
   "outputs": [],
   "source": [
    "#os.chdir('./WorkSpace/Anaconda/TAD')\n"
   ]
  },
  {
   "cell_type": "code",
   "execution_count": 3,
   "metadata": {
    "collapsed": false,
    "jupyter": {
     "outputs_hidden": false
    }
   },
   "outputs": [
    {
     "name": "stdout",
     "output_type": "stream",
     "text": [
      " 磁碟區 C 中的磁碟是 Windows\n",
      " 磁碟區序號:  EA49-1687\n",
      "\n",
      " C:\\Users\\john\\WorkSpace\\Anaconda\\TAD 的目錄\n",
      "\n",
      "2023/01/23  下午 04:27    <DIR>          .\n",
      "2023/01/20  下午 11:16    <DIR>          ..\n",
      "2023/01/23  下午 04:25    <DIR>          .idea\n",
      "2022/09/02  下午 04:26             4,024 coin_annotation_tool.html\n",
      "2023/01/23  下午 04:27            11,237 cut_frame.ipynb\n",
      "2023/01/23  下午 04:00    <DIR>          input\n",
      "2023/01/22  下午 03:04    <DIR>          lib\n",
      "               2 個檔案          15,261 位元組\n",
      "               5 個目錄  1,183,829,544,960 位元組可用\n"
     ]
    }
   ],
   "source": [
    "!dir"
   ]
  },
  {
   "cell_type": "code",
   "execution_count": 22,
   "metadata": {
    "collapsed": false,
    "jupyter": {
     "outputs_hidden": false
    }
   },
   "outputs": [],
   "source": [
    "video_list = os.listdir(path='./input/source')\n",
    "# init video.txt\n",
    "f = open('./input/video.txt','w')\n",
    "f.write(\"URLID,URL\\n\")\n",
    "for ele in video_list:\n",
    "    f.write(f\"{ele.split('.')[0]},{ele}\\n\")\n",
    "f.close()\n",
    "\n",
    "# init frame.txt\n",
    "f = open('./input/frame.txt','w')\n",
    "f.write(\"URLID,Frame,Time\\n\")\n",
    "f.close()\n"
   ]
  },
  {
   "cell_type": "code",
   "execution_count": 26,
   "metadata": {
    "collapsed": false,
    "jupyter": {
     "outputs_hidden": false
    }
   },
   "outputs": [
    {
     "name": "stdout",
     "output_type": "stream",
     "text": [
      "19.8023166023166\n",
      "input\\video\\20230201_142856\n"
     ]
    },
    {
     "name": "stderr",
     "output_type": "stream",
     "text": [
      "2137it [00:15, 140.50it/s]                                                                                             \n"
     ]
    },
    {
     "name": "stdout",
     "output_type": "stream",
     "text": [
      "finish 20230201_142856.mp4\n",
      "---------------------------------------------------------\n",
      "25.0\n",
      "input\\video\\test_video\n"
     ]
    },
    {
     "name": "stderr",
     "output_type": "stream",
     "text": [
      "201it [00:01, 115.16it/s]                                                                                              "
     ]
    },
    {
     "name": "stdout",
     "output_type": "stream",
     "text": [
      "finish test_video.mp4\n",
      "---------------------------------------------------------\n"
     ]
    },
    {
     "name": "stderr",
     "output_type": "stream",
     "text": [
      "\n"
     ]
    }
   ],
   "source": [
    "for video_name in video_list:\n",
    "\n",
    "    frame_index = 0  # original video frame\n",
    "    frame_count = 0  # save frame count\n",
    "    interval = 5  #\n",
    "    frame_list = []\n",
    "\n",
    "    video = cv2.VideoCapture(f'./input/source/{video_name}')\n",
    "    fps = video.get(cv2.CAP_PROP_FPS)\n",
    "    print(fps)\n",
    "    \n",
    "    video_root = Path(f\"./input/video/\")\n",
    "    video_root.mkdir(exist_ok=True)\n",
    "\n",
    "    frame_root = Path(f\"./input/video/{video_name.split('.')[0]}\")\n",
    "    print(frame_root)\n",
    "    frame_root.mkdir(exist_ok=True)\n",
    "\n",
    "    success = True if video.isOpened() else  False\n",
    "    if not success:\n",
    "        print(\"Read Video Fail\")\n",
    "    with tqdm(total=frame_index+1) as pbar:\n",
    "        while(success):\n",
    "            success, frame = video.read()\n",
    "            if not success:\n",
    "                print(f\"finish {video_name}\\n---------------------------------------------------------\")\n",
    "                break\n",
    "            #print(f'read {frame_index} frames')\n",
    "            if frame_index % interval == 0:\n",
    "                img_name = f'{str(frame_count).zfill(5)}.jpg'\n",
    "                cv2.imwrite(f\"{frame_root}/{img_name}\", frame)\n",
    "                frame_list.append(f\"{video_name.split('.')[0]},{img_name},{(frame_index/fps):.2f}\")\n",
    "                frame_count += 1\n",
    "            frame_index += 1\n",
    "            pbar.update(1)\n",
    "    f = open('./input/frame.txt','a')\n",
    "    for ele in frame_list:\n",
    "        f.write(ele+'\\n')\n",
    "    f.close()"
   ]
  },
  {
   "cell_type": "code",
   "execution_count": 10,
   "metadata": {
    "collapsed": false,
    "jupyter": {
     "outputs_hidden": false
    }
   },
   "outputs": [
    {
     "data": {
      "text/plain": [
       "list"
      ]
     },
     "execution_count": 10,
     "metadata": {},
     "output_type": "execute_result"
    }
   ],
   "source": [
    "type(os.listdir(path='./input/source'))"
   ]
  },
  {
   "cell_type": "code",
   "execution_count": 7,
   "metadata": {
    "collapsed": false,
    "jupyter": {
     "outputs_hidden": false
    }
   },
   "outputs": [
    {
     "data": {
      "text/plain": [
       "<function VideoCapture.release>"
      ]
     },
     "execution_count": 7,
     "metadata": {},
     "output_type": "execute_result"
    }
   ],
   "source": [
    "video.release"
   ]
  },
  {
   "cell_type": "code",
   "execution_count": 12,
   "metadata": {
    "collapsed": false,
    "jupyter": {
     "outputs_hidden": false
    }
   },
   "outputs": [],
   "source": [
    "fo = open('test.txt', 'w')\n",
    "fo.write(\"hello world\")\n",
    "fo.write(\"hello world\")\n",
    "fo.close()"
   ]
  },
  {
   "cell_type": "code",
   "execution_count": null,
   "metadata": {
    "collapsed": false,
    "jupyter": {
     "outputs_hidden": false
    }
   },
   "outputs": [],
   "source": []
  }
 ],
 "metadata": {
  "kernelspec": {
   "display_name": "tad",
   "language": "python",
   "name": "tad"
  },
  "language_info": {
   "codemirror_mode": {
    "name": "ipython",
    "version": 3
   },
   "file_extension": ".py",
   "mimetype": "text/x-python",
   "name": "python",
   "nbconvert_exporter": "python",
   "pygments_lexer": "ipython3",
   "version": "3.7.16"
  }
 },
 "nbformat": 4,
 "nbformat_minor": 4
}
